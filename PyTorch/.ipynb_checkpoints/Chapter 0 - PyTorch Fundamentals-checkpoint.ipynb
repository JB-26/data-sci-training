{
 "cells": [
  {
   "cell_type": "markdown",
   "id": "844fbe20-1d4d-43f6-b30d-ff9985a737c4",
   "metadata": {},
   "source": [
    "# What is Machine Learning?\n",
    "\n",
    "Turning things (data - like pictures, videos) into numbers and finding patterns in those numbers.\n",
    "\n",
    "Deep Learning is a subset of Machine Learning.\n",
    "\n",
    "# Machine Learning vs Deep Learning\n",
    "\n",
    "Artifical Intelligence -> Machine Learning -> Deep Learning\n",
    "\n",
    "Traditional Programming starts with the Inputs and Rules to create the Output.\n",
    "\n",
    "Machine Learnining Algorithm will take the Inputs and the Output to figure out the rules (supervised learning).\n",
    "\n",
    "## Use Machine Learning for...\n",
    "Structured data. Rows and columns!\n",
    "Algorithm: Gradient Boosted Machine (dmlc XGBoost) - used in Data Science Competitions!\n",
    "\n",
    "## Machine Learning algorithms...\n",
    "- Random Forest\n",
    "- Gradient boosted models\n",
    "- Naive Bayes\n",
    "- Nearest Neighbour\n",
    "- Support Vector Machine\n",
    "(since the advent of deep learning these are often referred to as 'shallow algorithms')\n",
    "\n",
    "## Deep Learning algorithms...\n",
    "- Neural Networks\n",
    "- Fully connected neural network\n",
    "- Convolutional neural network\n",
    "- Recurrent neural network\n",
    "- Transformer\n",
    "\n",
    "PyTorch is focused on the foundations of Deep Learning, so Neural Networks, fully connected neural network and convolutional neural networks.\n",
    "\n",
    "Depending on how you represent your problem, many of the algorithms can be used for both.\n",
    "\n",
    "## Use Deep Learning for...\n",
    "Unstructured data. Data all over the place. Natural Language. Images. Audio files.\n",
    "Algorithm: neural network\n",
    "\n",
    "# Why use Machine Learning/Deep Learning?\n",
    "\n",
    "For a complex problem, can you think of all the rules? Think about a self driving car!\n",
    "As long as you can convert it into numbers and program it to find patterns. Litterally it could be anything any input or output from the universe.\n",
    "\n",
    "Rule 1 of Google's Machine Learning Hardbook.\n",
    "\n",
    "_If you can build a simple rule-based system that doesn't require machine learning, do that._\n",
    "\n",
    "# What deep learning is good for?\n",
    "\n",
    "- Problems with long lists of rules, when the traditional approach fails, machine learning/deep learning may help\n",
    "- Continually changing environments, deep learning can adapt ('learn') to new scenarios.\n",
    "- Discovering insights within large collections of data, can you imagine trying to hand-craft rules for what 101 different kinds of food look like?\n",
    "\n",
    "# What deep learning is not good for?\n",
    "\n",
    "- When you need explainability, the patterns learned by a deep learning model are typically uninterpretable by a human.\n",
    "- When the traditional approach is a better option, if you can accomplish what you need with a simple rule-based system.\n",
    "- When errors are unacceptable, since the outputs of deep learning model aren't always predictable.\n",
    "- When you don't have much data, deep learning models usually require a fairly large amount of data to produce great results.\n",
    "\n",
    "\n"
   ]
  },
  {
   "cell_type": "markdown",
   "id": "57bcb0e6-e305-41c2-9f51-7181b35b8adc",
   "metadata": {},
   "source": [
    "CURRENT SPOT\n",
    "https://youtu.be/V_xro1bcAuA?t=1383"
   ]
  },
  {
   "cell_type": "code",
   "execution_count": null,
   "id": "77f25385-1054-48b3-8d61-8a32e7caee9e",
   "metadata": {},
   "outputs": [],
   "source": []
  }
 ],
 "metadata": {
  "kernelspec": {
   "display_name": "Python 3 (ipykernel)",
   "language": "python",
   "name": "python3"
  },
  "language_info": {
   "codemirror_mode": {
    "name": "ipython",
    "version": 3
   },
   "file_extension": ".py",
   "mimetype": "text/x-python",
   "name": "python",
   "nbconvert_exporter": "python",
   "pygments_lexer": "ipython3",
   "version": "3.10.9"
  }
 },
 "nbformat": 4,
 "nbformat_minor": 5
}
